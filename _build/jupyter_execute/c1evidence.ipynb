{
 "cells": [
  {
   "cell_type": "code",
   "execution_count": 1,
   "id": "f8552334",
   "metadata": {
    "tags": [
     "remove-cell"
    ]
   },
   "outputs": [],
   "source": [
    "from IPython import display"
   ]
  },
  {
   "cell_type": "markdown",
   "id": "a8748994",
   "metadata": {},
   "source": [
    "# Chapter 1:  Roots of Relativity\n",
    "\n",
    "Before we dive into the set of predictions and interpretations that\n",
    "make up what we call \"Special Relativity\" (or SR), it's important to\n",
    "lay some groundwork and establish some definitions for what we will be\n",
    "talking about.  Much of SR will twist and challenge what you thought\n",
    "you knew about space and time, so it is important to define our terms\n",
    "carefully and precisely, or else it can get very confusing as to what\n",
    "we are actually talking about.  In this chapter, we will describe the\n",
    "rules by which the game of SR is played, and describe some of the\n",
    "reasons why those rules have been accepted.  It's important to know,\n",
    "right from the beginning, that the predictions of relativity, in both\n",
    "the general and specific forms, have passed every single test to which\n",
    "they have been subjected.  As far as we can tell, the universe really\n",
    "does work this way.\n",
    "\n",
    "## Experimental Foundation\n",
    "\n",
    "Before the 1900s, a popular theory about the propagation of light\n",
    "waves was that they traveled in some medium called the 'ether'. The\n",
    "'ether' plays the analogous role that the air plays in the propagation\n",
    "of sound. The physical properties of the air determine the speed of\n",
    "the sound waves. In the case of the 'ether', it supported a speed of\n",
    "propagation of $3.0 \\times 10^8$ m/s. Following the usual practices of\n",
    "physics, the validity of this theory would be determined by\n",
    "experiments. As a test of this theory, in 1881, Michelson did an\n",
    "experiment to measure the relative velocity of the ether with respect\n",
    "to the earth. The 'best' ether theory of the time suggested that the\n",
    "ether was at rest with respect to the fixed stars. The earth orbits\n",
    "the sun once a year at an orbital speed of about $3.0 \\times 10^4$\n",
    "m/s.  If a light beam on earth travels in the same direction as the\n",
    "orbital motion about the sun, then that beam of light is in a frame of\n",
    "reference that is moving at $3.0 \\times 10^4$ m/s with respect to the\n",
    "speed of the ether. If the beam of light is heading towards the sun,\n",
    "it is moving in a frame of reference that is at respect to the ether.\n",
    "\n",
    "Michelson designed an interferometer (schematically shown in Figure\n",
    "1.1) that used partially silvered mirrors to split a beam of light\n",
    "into two legs that were at right angles to each other. By careful\n",
    "examination of the interference of the light after it traveled along\n",
    "the two beam lines and was recombined by the partially silvered\n",
    "mirrors, he could measure a difference in speed of light in the two\n",
    "arms of about 300 m/s, much smaller than the orbital speed of the\n",
    "earth about the sun. The interferometer was floated on a pot of\n",
    "mercury and allowed to rotate slowly. During a rotation of 360\n",
    "degrees, at one time one of the legs would be pointing in the\n",
    "direction of motion of the earth (moving with respect to the ether)\n",
    "and the other at rest with respect to the ether. A quarter of a turn\n",
    "later, the light in the arm that was at rest with respect to the ether\n",
    "would be moving and vice versa. This anticipated change in the speed\n",
    "of light when the either was at rest with respect to the mirrors or\n",
    "moving with respect to the mirrors in the other arm could be detected\n",
    "in the changing of the interference pattern of the combined beams.\n",
    "\n",
    "Much to Michelson's surprise, he measured no difference in speed as\n",
    "the arm was at rest with respect to the ether or moving with respect\n",
    "to the ether. Michelson had this terse description of the experiment:\n",
    "\"The interpretation of these results is that there is no displacement\n",
    "of the interference bands. ... The result of the hypothesis of a\n",
    "stationary ether is thus shown to be incorrect.\" (A. A. Michelson,\n",
    "Am. J. Sci, 122, 120 (1881)).  Michelson was encouraged by some\n",
    "important English physicists to continue his research. Along with\n",
    "E.W. Morley, he built a much bigger interferometer that had multiple\n",
    "mirrors and was 10 times as sensitive to the relative motion. He could\n",
    "measure a relative velocity of 30 m/s. Again, they found no\n",
    "difference in the speed in the two arms. (A. A. Michelson and\n",
    "E. W. Morley, Am. J. Sci., 134, 333 (1887)). The experiment was\n",
    "repeated often over the next few years, at even greater precision, but\n",
    "always gave the same null result: there is no stationary ether. As a\n",
    "consequence of his careful and brilliant work about the nature of the\n",
    "propagation of light, Michelson was awarded the Nobel prize in 1907.\n",
    "\n",
    "As with most interesting experiments, Michelson got a result that did\n",
    "not agree with his intuition about the outcome of the\n",
    "experiment. After a number of very bright physicists examined these\n",
    "results, a relatively simple and rather clever model was developed\n",
    "that agreed with the experimental results."
   ]
  },
  {
   "cell_type": "code",
   "execution_count": 2,
   "id": "91223930",
   "metadata": {
    "tags": [
     "remove-input"
    ]
   },
   "outputs": [
    {
     "data": {
      "text/html": [
       "\n",
       "        <iframe\n",
       "            width=\"880\"\n",
       "            height=\"700\"\n",
       "            src=\"https://glowscript.org/#/user/dasmith/folder/Public/program/SRinterferometer\"\n",
       "            frameborder=\"0\"\n",
       "            allowfullscreen\n",
       "            \n",
       "        ></iframe>\n",
       "        "
      ],
      "text/plain": [
       "<IPython.lib.display.IFrame at 0x7f882c2efd30>"
      ]
     },
     "execution_count": 2,
     "metadata": {},
     "output_type": "execute_result"
    }
   ],
   "source": [
    "# Insert VPython simulation of a Michaelson Interferometer\n",
    "# Allow user to rotate system, relative to ether\n",
    "# Have radio button to include/remove ether\n",
    "url1 = \"https://glowscript.org/#/user/dasmith/folder/Public/program/SRinterferometer\"\n",
    "display.IFrame(src=url1,width=880,height=700)"
   ]
  },
  {
   "cell_type": "markdown",
   "id": "3c374937",
   "metadata": {},
   "source": [
    "```{note}\n",
    "Figure 1.1 -- Animation of a simplified schematic of a Michaelson\n",
    "interferometer.  A laser, represented by the red cylinder to the left,\n",
    "shines a beam to the right.  The light is split by a diagonal\n",
    "half-silvered mirror.  Half the beam continues to the right, while\n",
    "half the beam goes up.  Each of these half-beams is reflected from a\n",
    "flat mirror back along the incoming path.  In the animation, the\n",
    "reflected beam is shifted slightly toward the viewer -- rotate the\n",
    "image to see the difference clearly.  The reflected beams then\n",
    "recombine at the splitter, resulting in an outgoing downward beam that\n",
    "is the sum of the two beams.  The animation begins in a world with no\n",
    "ether.  If you click on the checkbox below the animation, you can turn\n",
    "on an ether, and the slider will rotate the direction of the relative\n",
    "motion between the ether and the apparatus.  Waves going with the\n",
    "ether are stretched out, while waves heading upstrem are squished.  By\n",
    "rotating the direction, you can see that the outgoing beam varies\n",
    "dramatically based on the angle.  No such dependence was ever\n",
    "observed.\n",
    "```\n",
    "\n",
    "\n",
    "## Example of Binary Star Systems\n",
    "\n",
    "Another piece of evidence for the constancy of the speed of light\n",
    "comes from observations of binary star systems.  If two stars,\n",
    "orbiting each other, lie in a plane that is shared with the Earth,\n",
    "then we will observe eclipses every half orbit, as one star blocks at\n",
    "least some of the light from the other.  Half of each orbit, one star\n",
    "is moving toward the Earth, and the other is moving away.\n",
    "\n",
    "If the speed of light depended on the relative speed of the emitter\n",
    "and/or the receiver, the light from the star approaching the Earth\n",
    "would be moving faster than the light from the receeding star.  Over\n",
    "the years of travel between the stars and the Earth, the faster light\n",
    "would catch up to the slower light, perhaps even overtaking it.  The\n",
    "observations of the moments in the orbit, such as one star passing in\n",
    "front of the other, would arrive at the Earth at completely distorted\n",
    "times.\n",
    "\n",
    "Of course, no such distortion has ever been observed.  Eclipses arrive\n",
    "like clockwork.  Arrival times of the eclipses' beginnings and endings\n",
    "might need to be corrected for the Earth's motion around the Sun\n",
    "(light will take up to sixteen minutes longer to arrive at the Earth\n",
    "when it is on the far side of the Sun from the star), but there is no\n",
    "evidence that some of the light from the stars is getting here faster\n",
    "than other light.\n",
    "\n",
    "```{image} images/SR_LC.png\n",
    ":alt: fishy\n",
    ":class: bg-primary mb-1\n",
    ":width: 700px\n",
    ":align: center\n",
    ":name: srlc\n",
    "```\n",
    "\n",
    "```{image} images/nonSR_LC.png\n",
    ":alt: fishy\n",
    ":class: bg-primary mb-1\n",
    ":width: 700px\n",
    ":align: center\n",
    ":name: nonsrlc\n",
    "```\n",
    "\n",
    "```{note}\n",
    "Figure 1.2: Simulation of a simplified binary star system light curve.\n",
    "One star is three times as bright as the other.  This light curve\n",
    "shows two cycles of the stars' orbit as seen from Earth, 100 light\n",
    "years away.  The deeper eclipse is when the brighter star's light is\n",
    "blocked by the dimmer star.  The upper figure uses a constant speed of\n",
    "light for all photons, while the lower figure shows what such a light\n",
    "curve might look like if the light from the approaching star moved\n",
    "faster than the light from the receeding star (the speed of the stars\n",
    "has been exaggerated to accentuate the effect).  The upper figure\n",
    "matches what binary stars actually look like.  See, e.g. [this example\n",
    "of HIP\n",
    "59683](https://www.atnf.csiro.au/outreach/education/senior/astrophysics/binary_types.html#bintypeeclipse),\n",
    "a star in the Hipparcos database or [this collection of light curves](https://www.boulder.swri.edu/~terrell/talks/aavso2001/frame04.html) from the AAVSO.\n",
    "```\n",
    "\n",
    "Once you accept the idea that the speed of light is the same\n",
    "for all observers, many counter-intuitive results follow, but\n",
    "all of them have been verified in the real world."
   ]
  }
 ],
 "metadata": {
  "jupytext": {
   "formats": "md:myst",
   "text_representation": {
    "extension": ".md",
    "format_name": "myst",
    "format_version": 0.13,
    "jupytext_version": "1.11.5"
   }
  },
  "kernelspec": {
   "display_name": "Python 3",
   "language": "python",
   "name": "python3"
  },
  "language_info": {
   "codemirror_mode": {
    "name": "ipython",
    "version": 3
   },
   "file_extension": ".py",
   "mimetype": "text/x-python",
   "name": "python",
   "nbconvert_exporter": "python",
   "pygments_lexer": "ipython3",
   "version": "3.10.9"
  },
  "source_map": [
   15,
   20,
   100,
   107
  ]
 },
 "nbformat": 4,
 "nbformat_minor": 5
}